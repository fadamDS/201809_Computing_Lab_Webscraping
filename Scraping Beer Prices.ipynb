{
 "cells": [
  {
   "cell_type": "markdown",
   "metadata": {},
   "source": [
    "#### Felix Adam - Computing Lab Assignment 2 -  Webscraping Beer Prices\n",
    "\n",
    "The goal of this notebook is to scrape current beer prices from a big german food delivery site. \n",
    "Secondary goal: Find beers that are on sale!\n",
    "\n",
    "1. Make use of beautifoul soup \n",
    "2. Implement the whole process with ques!\n",
    "\n"
   ]
  },
  {
   "cell_type": "code",
   "execution_count": 1,
   "metadata": {
    "scrolled": true
   },
   "outputs": [],
   "source": [
    "# Importing Libraries\n",
    "from bs4 import BeautifulSoup\n",
    "import requests\n",
    "import re\n",
    "import queue\n",
    "from concurrent.futures import ThreadPoolExecutor, ProcessPoolExecutor,as_completed\n",
    "import time\n",
    "\n",
    "\n",
    "# Selenium Options, we want to use a \"headless\" driver, so no windows pop up\n",
    "#browser_options = Options()\n",
    "#browser_options.add_argument(\"--headless\")\n",
    "\n",
    "# Setting Webdriver to Firefox\n",
    "#driver = webdriver.Firefox(options=browser_options)\n"
   ]
  },
  {
   "cell_type": "code",
   "execution_count": 5,
   "metadata": {},
   "outputs": [],
   "source": [
    "class BeerScraper:\n",
    "    \n",
    "    # Initializing with a starting URL,the queue and an empty list for results\n",
    "    def __init__(self,start_url, friendly_scraping_time = 5):\n",
    "        \n",
    "        self.start_url = start_url\n",
    "        self.beer_queue = queue.Queue()\n",
    "        self.results =  []\n",
    "        self.friendly_scraping_time = friendly_scraping_time\n",
    "        \n",
    "    ## Get Beer List\n",
    "    def get_beer_list(self):\n",
    "        # Setting up the starting link\n",
    "        current_link = self.start_url\n",
    "    \n",
    "        # Initialising the while loop\n",
    "        no_more_pages = False\n",
    "\n",
    "        while no_more_pages == False:\n",
    "    \n",
    "            print(current_link + ' Sleeping for ' + str(self.friendly_scraping_time) + ' Seconds')\n",
    "    \n",
    "            # Gently scraping \n",
    "            time.sleep(self.friendly_scraping_time)\n",
    "    \n",
    "            print('Sleep done')\n",
    "    \n",
    "            # Making request\n",
    "            beer_list_request = requests.get(current_link)\n",
    "    \n",
    "            beer_list_page = BeautifulSoup(beer_list_request.content, 'html.parser')\n",
    "    \n",
    "            # Get all beers on the page\n",
    "            beers = beer_list_page.find_all('div', class_= 'search-service-ProductTileContent')\n",
    "\n",
    "            # Appending all beers to the list \n",
    "            for beer in beers:\n",
    "                # Find URL of current beer\n",
    "                beer_url = 'https://shop.rewe.de'+beer.find('a')['href']\n",
    "        \n",
    "                # Put the beer in the queue\n",
    "                self.beer_queue.put(beer_url)\n",
    "    \n",
    "            print('Total Nr. of Beers found: '+ str(self.beer_queue.qsize()))\n",
    "    \n",
    "            # Find next link\n",
    "            next_link = beer_list_page.find_all('a', href = True, text ='>')\n",
    "\n",
    "            if len(next_link) == 0:\n",
    "                no_more_pages = True \n",
    "            else:\n",
    "                current_link = next_link[0]['href']\n",
    "    \n",
    "        print('Done')\n",
    "        \n",
    "    ### Method get_beer, scrapes single beer page ###\n",
    "    def get_beer(self,beer_url):\n",
    "        \n",
    "        # Sleep\n",
    "        sleep(self.friendly_scraping_time)\n",
    "        \n",
    "        # Getting Request\n",
    "        beer_page_request = requests.get(beer_url)\n",
    "        \n",
    "        # Parsing with beautiful soup\n",
    "        beer_parsed = BeautifulSoup(beer_page_request.content, 'html.parser')\n",
    "\n",
    "        # Title\n",
    "        beer_title = beer_parsed.find('h1', class_= 'pd-QuickInfo__heading' ).text\n",
    "\n",
    "        # Price, integer part\n",
    "        integer_price = beer_parsed.find('span', class_='pd-price__predecimal').text\n",
    "\n",
    "        # Price, decimal part, removing leading whitespace as well\n",
    "        decimal_price = beer_parsed.find('span', class_='pd-price__decimal').text.lstrip()\n",
    "\n",
    "        # Full Price, concat and convert to float\n",
    "        beer_price = float(integer_price+'.'+decimal_price)\n",
    "\n",
    "        #Get the info string\n",
    "        info_string = beer_parsed.find('div', class_='rs-qa-price-base pd-Grammage pd-Grammage--Detail').text\n",
    "        \n",
    "        if '=' not in info_string:\n",
    "            price_per_liter = 0\n",
    "        else:\n",
    "        \n",
    "            # Extract info inside of the brackets\n",
    "            price_per_liter_string = info_string[info_string.find(\"(\")+1:info_string.find(\")\")]\n",
    "\n",
    "            # Extract string left to the equal sign (e.g. 1 l = 2,17 € or 1 l = 2 €)\n",
    "            temp_price_liter = price_per_liter_string.split('=')[1]\n",
    "    \n",
    "            # Error handling for missing commas\n",
    "            if \",\" not in temp_price_liter:\n",
    "                price_per_liter = int(re.search(r'\\d+', temp_price_liter).group())\n",
    "\n",
    "            else:\n",
    "                # Get the integer \n",
    "                temp_price_liter_int  = temp_price_liter.split(',')[0]\n",
    "    \n",
    "                # Get the decimal\n",
    "                temp_price_liter_dec = temp_price_liter.split(',')[1].split(' ')[0]\n",
    "            \n",
    "                # Convert to price per liter\n",
    "                price_per_liter = float(temp_price_liter_int+'.'+temp_price_liter_dec)\n",
    "\n",
    "        # Alcohol Content in percent adapt later!\n",
    "        #alcohol_content = beer_parsed.find_all('div', class_='pd-Attribute')[2].text.split(' ')[1]\n",
    "\n",
    "        # Collect all the beer info in a list\n",
    "        beer = [beer_title, beer_price, price_per_liter] \n",
    "    \n",
    "        #Return the beer\n",
    "        return beer\n",
    "    \n",
    "    #### Private Method for multi threading ###\n",
    "    def beer_worker(self,i):\n",
    "        while True:\n",
    "            # Get a beer link from the queue\n",
    "            beer_link = self.beer_queue.get()\n",
    "            if beer_link is None:\n",
    "                break\n",
    "            # Get the beer from the link\n",
    "            beer = self.get_beer(beer_link)\n",
    "            \n",
    "            self.results.append(beer)\n",
    "            \n",
    "            # Append it to results\n",
    "            #results.append(beer)\n",
    "            self.beer_queue.task_done()\n",
    "            \n",
    "    \n",
    "    ### Public method for getting all beers ###\n",
    "    def scrape_all_beers(self):\n",
    "        \n",
    "        beer_list = list(self.beer_queue.queue)\n",
    "        \n",
    "        #for beer in beer_list:\n",
    "            #print(beer)\n",
    "            #current_beer = self.get_beer(beer)\n",
    "            \n",
    "            #self.results.append(current_beer)\n",
    "            \n",
    "        #return self.results\n",
    "        \n",
    "        with ProcessPoolExecutor() as pool:\n",
    "            all_data = pool.map(parse_page, beer_list)\n",
    "        all_data = list(all_data)\n",
    "        \n",
    "        return all_data\n",
    "        "
   ]
  },
  {
   "cell_type": "code",
   "execution_count": 6,
   "metadata": {},
   "outputs": [],
   "source": [
    "scraper = BeerScraper(start_url='https://shop.rewe.de/c/getraenke/?search=Bier', friendly_scraping_time= 0 )"
   ]
  },
  {
   "cell_type": "code",
   "execution_count": 8,
   "metadata": {},
   "outputs": [
    {
     "name": "stdout",
     "output_type": "stream",
     "text": [
      "https://shop.rewe.de/c/getraenke/?search=Bier Sleeping for 0 Seconds\n",
      "Sleep done\n",
      "Total Nr. of Beers found: 40\n",
      "https://shop.rewe.de/c/getraenke/?page=2&search=Bier Sleeping for 0 Seconds\n",
      "Sleep done\n",
      "Total Nr. of Beers found: 80\n",
      "https://shop.rewe.de/c/getraenke/?page=3&search=Bier Sleeping for 0 Seconds\n",
      "Sleep done\n",
      "Total Nr. of Beers found: 120\n",
      "https://shop.rewe.de/c/getraenke/?page=4&search=Bier Sleeping for 0 Seconds\n",
      "Sleep done\n",
      "Total Nr. of Beers found: 160\n",
      "https://shop.rewe.de/c/getraenke/?page=5&search=Bier Sleeping for 0 Seconds\n",
      "Sleep done\n",
      "Total Nr. of Beers found: 200\n",
      "https://shop.rewe.de/c/getraenke/?page=6&search=Bier Sleeping for 0 Seconds\n",
      "Sleep done\n",
      "Total Nr. of Beers found: 240\n",
      "https://shop.rewe.de/c/getraenke/?page=7&search=Bier Sleeping for 0 Seconds\n",
      "Sleep done\n",
      "Total Nr. of Beers found: 280\n",
      "https://shop.rewe.de/c/getraenke/?page=8&search=Bier Sleeping for 0 Seconds\n",
      "Sleep done\n",
      "Total Nr. of Beers found: 320\n",
      "https://shop.rewe.de/c/getraenke/?page=9&search=Bier Sleeping for 0 Seconds\n",
      "Sleep done\n",
      "Total Nr. of Beers found: 360\n",
      "https://shop.rewe.de/c/getraenke/?page=10&search=Bier Sleeping for 0 Seconds\n",
      "Sleep done\n",
      "Total Nr. of Beers found: 400\n",
      "https://shop.rewe.de/c/getraenke/?page=11&search=Bier Sleeping for 0 Seconds\n",
      "Sleep done\n",
      "Total Nr. of Beers found: 440\n",
      "https://shop.rewe.de/c/getraenke/?page=12&search=Bier Sleeping for 0 Seconds\n",
      "Sleep done\n",
      "Total Nr. of Beers found: 480\n",
      "https://shop.rewe.de/c/getraenke/?page=13&search=Bier Sleeping for 0 Seconds\n",
      "Sleep done\n",
      "Total Nr. of Beers found: 506\n",
      "Done\n"
     ]
    }
   ],
   "source": [
    "scraper.get_beer_list()"
   ]
  },
  {
   "cell_type": "code",
   "execution_count": 9,
   "metadata": {},
   "outputs": [
    {
     "name": "stdout",
     "output_type": "stream",
     "text": [
      "CPU times: user 27 µs, sys: 0 ns, total: 27 µs\n",
      "Wall time: 32.2 µs\n"
     ]
    }
   ],
   "source": [
    "%%time\n",
    "## Wall Time: 3min 21s\n",
    "\n",
    "beer_list = list(scraper.beer_queue.queue)\n",
    "        \n",
    "        #for beer in beer_list:\n",
    "            #print(beer)\n",
    "            #current_beer = self.get_beer(beer)\n",
    "            \n",
    "            #self.results.append(current_beer)\n",
    "            \n",
    "        #return self.results\n",
    "# Using 100 workers here, 200 would result in connection errors!\n",
    "        \n",
    "with ThreadPoolExecutor(max_workers= 50) as pool:\n",
    "    all_data = pool.map(scraper.get_beer, beer_list)\n",
    "    all_data = list(all_data)\n",
    "all_data"
   ]
  },
  {
   "cell_type": "code",
   "execution_count": 70,
   "metadata": {},
   "outputs": [
    {
     "name": "stdout",
     "output_type": "stream",
     "text": [
      "CPU times: user 3min 8s, sys: 432 ms, total: 3min 8s\n",
      "Wall time: 6min 12s\n"
     ]
    }
   ],
   "source": [
    "%%time\n",
    "\n",
    "e = []\n",
    "\n",
    "for beer in beer_list:\n",
    "    test = scraper.get_beer(beer)\n",
    "    e.append(test)\n"
   ]
  },
  {
   "cell_type": "code",
   "execution_count": 11,
   "metadata": {},
   "outputs": [],
   "source": [
    "import multiprocessing\n",
    "import itertools\n"
   ]
  },
  {
   "cell_type": "code",
   "execution_count": 12,
   "metadata": {},
   "outputs": [
    {
     "ename": "TypeError",
     "evalue": "can't pickle _thread.lock objects",
     "output_type": "error",
     "traceback": [
      "\u001b[0;31m---------------------------------------------------------------------------\u001b[0m",
      "\u001b[0;31mTypeError\u001b[0m                                 Traceback (most recent call last)",
      "\u001b[0;32m<timed exec>\u001b[0m in \u001b[0;36m<module>\u001b[0;34m()\u001b[0m\n",
      "\u001b[0;32m~/anaconda3/lib/python3.6/multiprocessing/pool.py\u001b[0m in \u001b[0;36mmap\u001b[0;34m(self, func, iterable, chunksize)\u001b[0m\n\u001b[1;32m    264\u001b[0m         \u001b[0;32min\u001b[0m \u001b[0ma\u001b[0m \u001b[0mlist\u001b[0m \u001b[0mthat\u001b[0m \u001b[0;32mis\u001b[0m \u001b[0mreturned\u001b[0m\u001b[0;34m.\u001b[0m\u001b[0;34m\u001b[0m\u001b[0m\n\u001b[1;32m    265\u001b[0m         '''\n\u001b[0;32m--> 266\u001b[0;31m         \u001b[0;32mreturn\u001b[0m \u001b[0mself\u001b[0m\u001b[0;34m.\u001b[0m\u001b[0m_map_async\u001b[0m\u001b[0;34m(\u001b[0m\u001b[0mfunc\u001b[0m\u001b[0;34m,\u001b[0m \u001b[0miterable\u001b[0m\u001b[0;34m,\u001b[0m \u001b[0mmapstar\u001b[0m\u001b[0;34m,\u001b[0m \u001b[0mchunksize\u001b[0m\u001b[0;34m)\u001b[0m\u001b[0;34m.\u001b[0m\u001b[0mget\u001b[0m\u001b[0;34m(\u001b[0m\u001b[0;34m)\u001b[0m\u001b[0;34m\u001b[0m\u001b[0m\n\u001b[0m\u001b[1;32m    267\u001b[0m \u001b[0;34m\u001b[0m\u001b[0m\n\u001b[1;32m    268\u001b[0m     \u001b[0;32mdef\u001b[0m \u001b[0mstarmap\u001b[0m\u001b[0;34m(\u001b[0m\u001b[0mself\u001b[0m\u001b[0;34m,\u001b[0m \u001b[0mfunc\u001b[0m\u001b[0;34m,\u001b[0m \u001b[0miterable\u001b[0m\u001b[0;34m,\u001b[0m \u001b[0mchunksize\u001b[0m\u001b[0;34m=\u001b[0m\u001b[0;32mNone\u001b[0m\u001b[0;34m)\u001b[0m\u001b[0;34m:\u001b[0m\u001b[0;34m\u001b[0m\u001b[0m\n",
      "\u001b[0;32m~/anaconda3/lib/python3.6/multiprocessing/pool.py\u001b[0m in \u001b[0;36mget\u001b[0;34m(self, timeout)\u001b[0m\n\u001b[1;32m    642\u001b[0m             \u001b[0;32mreturn\u001b[0m \u001b[0mself\u001b[0m\u001b[0;34m.\u001b[0m\u001b[0m_value\u001b[0m\u001b[0;34m\u001b[0m\u001b[0m\n\u001b[1;32m    643\u001b[0m         \u001b[0;32melse\u001b[0m\u001b[0;34m:\u001b[0m\u001b[0;34m\u001b[0m\u001b[0m\n\u001b[0;32m--> 644\u001b[0;31m             \u001b[0;32mraise\u001b[0m \u001b[0mself\u001b[0m\u001b[0;34m.\u001b[0m\u001b[0m_value\u001b[0m\u001b[0;34m\u001b[0m\u001b[0m\n\u001b[0m\u001b[1;32m    645\u001b[0m \u001b[0;34m\u001b[0m\u001b[0m\n\u001b[1;32m    646\u001b[0m     \u001b[0;32mdef\u001b[0m \u001b[0m_set\u001b[0m\u001b[0;34m(\u001b[0m\u001b[0mself\u001b[0m\u001b[0;34m,\u001b[0m \u001b[0mi\u001b[0m\u001b[0;34m,\u001b[0m \u001b[0mobj\u001b[0m\u001b[0;34m)\u001b[0m\u001b[0;34m:\u001b[0m\u001b[0;34m\u001b[0m\u001b[0m\n",
      "\u001b[0;32m~/anaconda3/lib/python3.6/multiprocessing/pool.py\u001b[0m in \u001b[0;36m_handle_tasks\u001b[0;34m(taskqueue, put, outqueue, pool, cache)\u001b[0m\n\u001b[1;32m    422\u001b[0m                         \u001b[0;32mbreak\u001b[0m\u001b[0;34m\u001b[0m\u001b[0m\n\u001b[1;32m    423\u001b[0m                     \u001b[0;32mtry\u001b[0m\u001b[0;34m:\u001b[0m\u001b[0;34m\u001b[0m\u001b[0m\n\u001b[0;32m--> 424\u001b[0;31m                         \u001b[0mput\u001b[0m\u001b[0;34m(\u001b[0m\u001b[0mtask\u001b[0m\u001b[0;34m)\u001b[0m\u001b[0;34m\u001b[0m\u001b[0m\n\u001b[0m\u001b[1;32m    425\u001b[0m                     \u001b[0;32mexcept\u001b[0m \u001b[0mException\u001b[0m \u001b[0;32mas\u001b[0m \u001b[0me\u001b[0m\u001b[0;34m:\u001b[0m\u001b[0;34m\u001b[0m\u001b[0m\n\u001b[1;32m    426\u001b[0m                         \u001b[0mjob\u001b[0m\u001b[0;34m,\u001b[0m \u001b[0midx\u001b[0m \u001b[0;34m=\u001b[0m \u001b[0mtask\u001b[0m\u001b[0;34m[\u001b[0m\u001b[0;34m:\u001b[0m\u001b[0;36m2\u001b[0m\u001b[0;34m]\u001b[0m\u001b[0;34m\u001b[0m\u001b[0m\n",
      "\u001b[0;32m~/anaconda3/lib/python3.6/multiprocessing/connection.py\u001b[0m in \u001b[0;36msend\u001b[0;34m(self, obj)\u001b[0m\n\u001b[1;32m    204\u001b[0m         \u001b[0mself\u001b[0m\u001b[0;34m.\u001b[0m\u001b[0m_check_closed\u001b[0m\u001b[0;34m(\u001b[0m\u001b[0;34m)\u001b[0m\u001b[0;34m\u001b[0m\u001b[0m\n\u001b[1;32m    205\u001b[0m         \u001b[0mself\u001b[0m\u001b[0;34m.\u001b[0m\u001b[0m_check_writable\u001b[0m\u001b[0;34m(\u001b[0m\u001b[0;34m)\u001b[0m\u001b[0;34m\u001b[0m\u001b[0m\n\u001b[0;32m--> 206\u001b[0;31m         \u001b[0mself\u001b[0m\u001b[0;34m.\u001b[0m\u001b[0m_send_bytes\u001b[0m\u001b[0;34m(\u001b[0m\u001b[0m_ForkingPickler\u001b[0m\u001b[0;34m.\u001b[0m\u001b[0mdumps\u001b[0m\u001b[0;34m(\u001b[0m\u001b[0mobj\u001b[0m\u001b[0;34m)\u001b[0m\u001b[0;34m)\u001b[0m\u001b[0;34m\u001b[0m\u001b[0m\n\u001b[0m\u001b[1;32m    207\u001b[0m \u001b[0;34m\u001b[0m\u001b[0m\n\u001b[1;32m    208\u001b[0m     \u001b[0;32mdef\u001b[0m \u001b[0mrecv_bytes\u001b[0m\u001b[0;34m(\u001b[0m\u001b[0mself\u001b[0m\u001b[0;34m,\u001b[0m \u001b[0mmaxlength\u001b[0m\u001b[0;34m=\u001b[0m\u001b[0;32mNone\u001b[0m\u001b[0;34m)\u001b[0m\u001b[0;34m:\u001b[0m\u001b[0;34m\u001b[0m\u001b[0m\n",
      "\u001b[0;32m~/anaconda3/lib/python3.6/multiprocessing/reduction.py\u001b[0m in \u001b[0;36mdumps\u001b[0;34m(cls, obj, protocol)\u001b[0m\n\u001b[1;32m     49\u001b[0m     \u001b[0;32mdef\u001b[0m \u001b[0mdumps\u001b[0m\u001b[0;34m(\u001b[0m\u001b[0mcls\u001b[0m\u001b[0;34m,\u001b[0m \u001b[0mobj\u001b[0m\u001b[0;34m,\u001b[0m \u001b[0mprotocol\u001b[0m\u001b[0;34m=\u001b[0m\u001b[0;32mNone\u001b[0m\u001b[0;34m)\u001b[0m\u001b[0;34m:\u001b[0m\u001b[0;34m\u001b[0m\u001b[0m\n\u001b[1;32m     50\u001b[0m         \u001b[0mbuf\u001b[0m \u001b[0;34m=\u001b[0m \u001b[0mio\u001b[0m\u001b[0;34m.\u001b[0m\u001b[0mBytesIO\u001b[0m\u001b[0;34m(\u001b[0m\u001b[0;34m)\u001b[0m\u001b[0;34m\u001b[0m\u001b[0m\n\u001b[0;32m---> 51\u001b[0;31m         \u001b[0mcls\u001b[0m\u001b[0;34m(\u001b[0m\u001b[0mbuf\u001b[0m\u001b[0;34m,\u001b[0m \u001b[0mprotocol\u001b[0m\u001b[0;34m)\u001b[0m\u001b[0;34m.\u001b[0m\u001b[0mdump\u001b[0m\u001b[0;34m(\u001b[0m\u001b[0mobj\u001b[0m\u001b[0;34m)\u001b[0m\u001b[0;34m\u001b[0m\u001b[0m\n\u001b[0m\u001b[1;32m     52\u001b[0m         \u001b[0;32mreturn\u001b[0m \u001b[0mbuf\u001b[0m\u001b[0;34m.\u001b[0m\u001b[0mgetbuffer\u001b[0m\u001b[0;34m(\u001b[0m\u001b[0;34m)\u001b[0m\u001b[0;34m\u001b[0m\u001b[0m\n\u001b[1;32m     53\u001b[0m \u001b[0;34m\u001b[0m\u001b[0m\n",
      "\u001b[0;31mTypeError\u001b[0m: can't pickle _thread.lock objects"
     ]
    }
   ],
   "source": [
    "%%time\n",
    "with multiprocessing.Pool() as p:\n",
    "    beer = p.map(scraper.get_beer, beer_list)\n",
    "all_beers = set(it.chain.from_iterable(beer))"
   ]
  },
  {
   "cell_type": "code",
   "execution_count": null,
   "metadata": {},
   "outputs": [],
   "source": []
  }
 ],
 "metadata": {
  "kernelspec": {
   "display_name": "Python 3",
   "language": "python",
   "name": "python3"
  },
  "language_info": {
   "codemirror_mode": {
    "name": "ipython",
    "version": 3
   },
   "file_extension": ".py",
   "mimetype": "text/x-python",
   "name": "python",
   "nbconvert_exporter": "python",
   "pygments_lexer": "ipython3",
   "version": "3.6.5"
  },
  "varInspector": {
   "cols": {
    "lenName": 16,
    "lenType": 16,
    "lenVar": 40
   },
   "kernels_config": {
    "python": {
     "delete_cmd_postfix": "",
     "delete_cmd_prefix": "del ",
     "library": "var_list.py",
     "varRefreshCmd": "print(var_dic_list())"
    },
    "r": {
     "delete_cmd_postfix": ") ",
     "delete_cmd_prefix": "rm(",
     "library": "var_list.r",
     "varRefreshCmd": "cat(var_dic_list()) "
    }
   },
   "types_to_exclude": [
    "module",
    "function",
    "builtin_function_or_method",
    "instance",
    "_Feature"
   ],
   "window_display": false
  }
 },
 "nbformat": 4,
 "nbformat_minor": 2
}
